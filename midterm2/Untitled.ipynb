{
 "cells": [
  {
   "cell_type": "code",
   "execution_count": 7,
   "metadata": {},
   "outputs": [
    {
     "name": "stdout",
     "output_type": "stream",
     "text": [
      "Epoch 1/3\n",
      "60000/60000 [==============================] - 190s 3ms/step - loss: 5.0083 - categorical_accuracy: 0.6033\n",
      "Epoch 2/3\n",
      "60000/60000 [==============================] - 121s 2ms/step - loss: 2.6890 - categorical_accuracy: 0.9297\n",
      "Epoch 3/3\n",
      "60000/60000 [==============================] - 113s 2ms/step - loss: 1.7273 - categorical_accuracy: 0.9596\n",
      "\n",
      "Evaluating the model on test data. This won't take long. Relax!\n",
      "10000/10000 [==============================] - 7s 692us/step\n",
      "('\\nAccuracy on test data : ', 97.289999574422836)\n",
      "('\\nLoss on test data : ', 1.3934602572917938)\n"
     ]
    }
   ],
   "source": [
    "import os\n",
    "os.environ['TF_CPP_MIN_LOG_LEVEL']='2'\n",
    "\n",
    "import idx2numpy\n",
    "import numpy as np\n",
    "from keras.models import Sequential\n",
    "from keras.layers.core import Dense, Activation, Flatten, Dropout\n",
    "from keras.layers.convolutional import Conv2D\n",
    "from keras.layers.pooling import MaxPooling2D\n",
    "from keras import regularizers\n",
    "from keras import metrics\n",
    "from keras.utils.np_utils import to_categorical\n",
    "from keras import optimizers\n",
    "from scipy import misc\n",
    "\n",
    "\n",
    "DATA_PATH = 'data/'\n",
    "\n",
    "X_train = idx2numpy.convert_from_file(DATA_PATH + 'train-images-idx3-ubyte')\n",
    "Y_train = idx2numpy.convert_from_file(DATA_PATH + 'train-labels-idx1-ubyte')\n",
    "X_test = idx2numpy.convert_from_file(DATA_PATH + 't10k-images-idx3-ubyte')\n",
    "Y_test = idx2numpy.convert_from_file(DATA_PATH + 't10k-labels-idx1-ubyte')\n",
    "\n",
    "# reshape the data so as to fit the format of (samples, height, width, channels)\n",
    "X_train = X_train.reshape(60000, 28, 28, 1).astype('float32')\n",
    "X_test = X_test.reshape(10000, 28, 28, 1).astype('float32')\n",
    "\n",
    "Y_train = Y_train.reshape(60000)\n",
    "Y_test = Y_test.reshape(10000)\n",
    "\n",
    "Y_train = to_categorical(Y_train, 10)\n",
    "Y_test = to_categorical(Y_test, 10)\n",
    "\n",
    "\n",
    "model = Sequential()\n",
    "\n",
    "model.add(Conv2D(filters=20, kernel_size=(6,6), kernel_regularizer=regularizers.l2(0.04), strides=(1,1), padding='valid', activation='relu', data_format='channels_last', input_shape=(28,28,1)))\n",
    "model.add(Conv2D(filters=20, kernel_size=(3,3), kernel_regularizer=regularizers.l2(0.04), strides=(1,1), padding='valid', activation='relu'))\n",
    "model.add(MaxPooling2D(pool_size=(4,4), strides=(1,1)))\n",
    "model.add(Dropout(rate=0.05,seed=3))\n",
    "\n",
    "model.add(Conv2D(filters=10, kernel_size=(6,6), kernel_regularizer=regularizers.l2(0.04), strides=(1,1), padding='valid', activation='relu'))\n",
    "model.add(Conv2D(filters=10, kernel_size=(3,3), kernel_regularizer=regularizers.l2(0.04), strides=(1,1), padding='valid', activation='relu'))\n",
    "model.add(MaxPooling2D(pool_size=(4,4), strides=(1,1)))\n",
    "model.add(Dropout(rate=0.05,seed=8))\n",
    "model.add(Flatten())\n",
    "\n",
    "model.add(Dense(units=30, activation='tanh', kernel_regularizer=regularizers.l2(0.04)))\n",
    "model.add(Dense(units=10, activation='softmax', kernel_regularizer=regularizers.l2(0.04)))\n",
    "\n",
    "# MODEL COMPILATION\n",
    "# reduce the learning rate if training accuracy suddenly drops and keeps decreasing\n",
    "sgd = optimizers.SGD(lr=0.003) # lr by default is 0.01 for SGD\n",
    "\n",
    "model.compile(loss='categorical_crossentropy', optimizer=sgd, metrics=[metrics.categorical_accuracy])\n",
    "\n",
    "# MODEL FIT\n",
    "model.fit(X_train, Y_train, epochs=3, batch_size=50)\n",
    "model.save('mnist-classifier-model.h5')\n",
    "model.save_weights('mnist-classifier-weights.h5')\n",
    "\n",
    "# MODEL EVALUATION\n",
    "print(\"\\nEvaluating the model on test data. This won't take long. Relax!\")\n",
    "test_loss, test_accuracy = model.evaluate(X_test, Y_test, batch_size=10)\n",
    "print(\"\\nAccuracy on test data : \", test_accuracy*100)\n",
    "print(\"\\nLoss on test data : \", test_loss)\n",
    "\n",
    "# manually end the session to avoid occasional exceptions while running the program\n",
    "from keras import backend as K\n",
    "K.clear_session()"
   ]
  },
  {
   "cell_type": "code",
   "execution_count": null,
   "metadata": {
    "collapsed": true
   },
   "outputs": [],
   "source": []
  }
 ],
 "metadata": {
  "kernelspec": {
   "display_name": "Python 2",
   "language": "python",
   "name": "python2"
  },
  "language_info": {
   "codemirror_mode": {
    "name": "ipython",
    "version": 2
   },
   "file_extension": ".py",
   "mimetype": "text/x-python",
   "name": "python",
   "nbconvert_exporter": "python",
   "pygments_lexer": "ipython2",
   "version": "2.7.13"
  }
 },
 "nbformat": 4,
 "nbformat_minor": 2
}
