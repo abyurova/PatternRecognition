{
 "cells": [
  {
   "cell_type": "code",
   "execution_count": 1,
   "metadata": {
    "collapsed": true
   },
   "outputs": [],
   "source": [
    "import pandas as pd\n",
    "import numpy as np\n"
   ]
  },
  {
   "cell_type": "code",
   "execution_count": 2,
   "metadata": {},
   "outputs": [
    {
     "name": "stdout",
     "output_type": "stream",
     "text": [
      "    type           type_description  client_id      datetime  code        sum  \\\n",
      "0   4035                        н/д    8501277   27 18:39:53  6011   -1179.11   \n",
      "1   4035                        н/д    8501277   27 18:49:59  6011    -168.44   \n",
      "2   1210  Покупка. POS  Зарубеж. ТУ   86053380   74 00:00:00  5411  -12092.91   \n",
      "3   1210  Покупка. POS  Зарубеж. ТУ   86053380  421 00:00:00  5734  -48321.10   \n",
      "4   1210  Покупка. POS  Зарубеж. ТУ   86053380   74 00:00:00  5814   -9934.58   \n",
      "5   1210  Покупка. POS  Зарубеж. ТУ   86053380  424 00:00:00  5999  -34794.85   \n",
      "6   1210  Покупка. POS  Зарубеж. ТУ   86053380  424 00:00:00  5691 -148565.53   \n",
      "7   1210  Покупка. POS  Зарубеж. ТУ   86053380  419 00:00:00  5814  -23819.28   \n",
      "8   1210  Покупка. POS  Зарубеж. ТУ   86053380  422 00:00:00  5812  -25559.64   \n",
      "9   1210  Покупка. POS  Зарубеж. ТУ   86053380  416 00:00:00  5945  -36105.57   \n",
      "10  1210  Покупка. POS  Зарубеж. ТУ   86053380   74 00:00:00  5814   -9109.88   \n",
      "11  1210  Покупка. POS  Зарубеж. ТУ   86053380  426 00:00:00  5812  -30972.98   \n",
      "12  1210  Покупка. POS  Зарубеж. ТУ   86053380  419 00:00:00  5411  -46988.15   \n",
      "13  1210  Покупка. POS  Зарубеж. ТУ   86053380  417 00:00:00  5814   -7786.37   \n",
      "14  1210  Покупка. POS  Зарубеж. ТУ   86053380   77 00:00:00  5309   -7847.68   \n",
      "15  1210  Покупка. POS  Зарубеж. ТУ   86053380  417 00:00:00  5814  -16478.73   \n",
      "16  1210  Покупка. POS  Зарубеж. ТУ   86053380   75 00:00:00  5948  -36270.42   \n",
      "17  1210  Покупка. POS  Зарубеж. ТУ   86053380  424 00:00:00  5641  -29277.76   \n",
      "18  1210  Покупка. POS  Зарубеж. ТУ   86053380  416 00:00:00  5499   -8124.15   \n",
      "19  1210  Покупка. POS  Зарубеж. ТУ   86053380   67 00:00:00  4812  -29310.10   \n",
      "\n",
      "   source_id  status  \n",
      "0        NaN       1  \n",
      "1        NaN       1  \n",
      "2        NaN       1  \n",
      "3   29886176       1  \n",
      "4        NaN       1  \n",
      "5   80750740       1  \n",
      "6   80292324       1  \n",
      "7   80748154       1  \n",
      "8   28069337       1  \n",
      "9   70596095       1  \n",
      "10       NaN       1  \n",
      "11  80260598       1  \n",
      "12  51713209       1  \n",
      "13  81290579       1  \n",
      "14       NaN       1  \n",
      "15  81290579       1  \n",
      "16       NaN       1  \n",
      "17  70532302       1  \n",
      "18  50110692       1  \n",
      "19       NaN       1  \n"
     ]
    },
    {
     "data": {
      "text/html": [
       "<div>\n",
       "<style>\n",
       "    .dataframe thead tr:only-child th {\n",
       "        text-align: right;\n",
       "    }\n",
       "\n",
       "    .dataframe thead th {\n",
       "        text-align: left;\n",
       "    }\n",
       "\n",
       "    .dataframe tbody tr th {\n",
       "        vertical-align: top;\n",
       "    }\n",
       "</style>\n",
       "<table border=\"1\" class=\"dataframe\">\n",
       "  <thead>\n",
       "    <tr style=\"text-align: right;\">\n",
       "      <th></th>\n",
       "      <th>type</th>\n",
       "      <th>client_id</th>\n",
       "      <th>code</th>\n",
       "      <th>sum</th>\n",
       "      <th>status</th>\n",
       "    </tr>\n",
       "  </thead>\n",
       "  <tbody>\n",
       "    <tr>\n",
       "      <th>count</th>\n",
       "      <td>4.101723e+06</td>\n",
       "      <td>4.101723e+06</td>\n",
       "      <td>4.101723e+06</td>\n",
       "      <td>4.101723e+06</td>\n",
       "      <td>4.101723e+06</td>\n",
       "    </tr>\n",
       "    <tr>\n",
       "      <th>mean</th>\n",
       "      <td>2.499337e+03</td>\n",
       "      <td>5.089502e+07</td>\n",
       "      <td>5.592849e+03</td>\n",
       "      <td>-2.091074e+04</td>\n",
       "      <td>4.851022e-01</td>\n",
       "    </tr>\n",
       "    <tr>\n",
       "      <th>std</th>\n",
       "      <td>2.259388e+03</td>\n",
       "      <td>2.865764e+07</td>\n",
       "      <td>6.032087e+02</td>\n",
       "      <td>5.017032e+05</td>\n",
       "      <td>4.997781e-01</td>\n",
       "    </tr>\n",
       "    <tr>\n",
       "      <th>min</th>\n",
       "      <td>1.000000e+03</td>\n",
       "      <td>2.289900e+04</td>\n",
       "      <td>7.420000e+02</td>\n",
       "      <td>-1.347549e+08</td>\n",
       "      <td>0.000000e+00</td>\n",
       "    </tr>\n",
       "    <tr>\n",
       "      <th>25%</th>\n",
       "      <td>1.030000e+03</td>\n",
       "      <td>2.599296e+07</td>\n",
       "      <td>5.211000e+03</td>\n",
       "      <td>-2.245916e+04</td>\n",
       "      <td>0.000000e+00</td>\n",
       "    </tr>\n",
       "    <tr>\n",
       "      <th>50%</th>\n",
       "      <td>1.110000e+03</td>\n",
       "      <td>5.243300e+07</td>\n",
       "      <td>5.641000e+03</td>\n",
       "      <td>-5.524950e+03</td>\n",
       "      <td>0.000000e+00</td>\n",
       "    </tr>\n",
       "    <tr>\n",
       "      <th>75%</th>\n",
       "      <td>2.370000e+03</td>\n",
       "      <td>7.499280e+07</td>\n",
       "      <td>6.010000e+03</td>\n",
       "      <td>-1.122960e+03</td>\n",
       "      <td>1.000000e+00</td>\n",
       "    </tr>\n",
       "    <tr>\n",
       "      <th>max</th>\n",
       "      <td>8.146000e+03</td>\n",
       "      <td>9.999968e+07</td>\n",
       "      <td>9.402000e+03</td>\n",
       "      <td>1.347549e+08</td>\n",
       "      <td>1.000000e+00</td>\n",
       "    </tr>\n",
       "  </tbody>\n",
       "</table>\n",
       "</div>"
      ],
      "text/plain": [
       "               type     client_id          code           sum        status\n",
       "count  4.101723e+06  4.101723e+06  4.101723e+06  4.101723e+06  4.101723e+06\n",
       "mean   2.499337e+03  5.089502e+07  5.592849e+03 -2.091074e+04  4.851022e-01\n",
       "std    2.259388e+03  2.865764e+07  6.032087e+02  5.017032e+05  4.997781e-01\n",
       "min    1.000000e+03  2.289900e+04  7.420000e+02 -1.347549e+08  0.000000e+00\n",
       "25%    1.030000e+03  2.599296e+07  5.211000e+03 -2.245916e+04  0.000000e+00\n",
       "50%    1.110000e+03  5.243300e+07  5.641000e+03 -5.524950e+03  0.000000e+00\n",
       "75%    2.370000e+03  7.499280e+07  6.010000e+03 -1.122960e+03  1.000000e+00\n",
       "max    8.146000e+03  9.999968e+07  9.402000e+03  1.347549e+08  1.000000e+00"
      ]
     },
     "execution_count": 2,
     "metadata": {},
     "output_type": "execute_result"
    }
   ],
   "source": [
    "operations = pd.read_csv('operations.csv', sep=',',decimal='.')\n",
    "dataset = pd.read_csv('dataset.csv', sep=',')\n",
    "mergeOD = pd.merge(operations, dataset, on ='client_id')\n",
    "types = pd.read_csv('types.csv', sep=';')\n",
    "codes = pd.read_csv('codes.csv', sep=';')\n",
    "merge1 = pd.merge(types, mergeOD, on ='type')\n",
    "#mergeAll = pd.merge(mergeTC, mergeOD, on ='client_id')\n",
    "print merge1[:20]\n",
    "merge1.describe()\n"
   ]
  },
  {
   "cell_type": "code",
   "execution_count": 5,
   "metadata": {},
   "outputs": [
    {
     "data": {
      "text/plain": [
       "array([[<matplotlib.axes._subplots.AxesSubplot object at 0x1169f49d0>,\n",
       "        <matplotlib.axes._subplots.AxesSubplot object at 0x116a69d50>],\n",
       "       [<matplotlib.axes._subplots.AxesSubplot object at 0x116b77b10>,\n",
       "        <matplotlib.axes._subplots.AxesSubplot object at 0x116de7550>],\n",
       "       [<matplotlib.axes._subplots.AxesSubplot object at 0x116e6e590>,\n",
       "        <matplotlib.axes._subplots.AxesSubplot object at 0x1172fec90>]], dtype=object)"
      ]
     },
     "execution_count": 5,
     "metadata": {},
     "output_type": "execute_result"
    },
    {
     "data": {
      "image/png": "[encoded data removed]",
      "text/plain": [
       "<matplotlib.figure.Figure at 0x1169f4490>"
      ]
     },
     "metadata": {},
     "output_type": "display_data"
    }
   ],
   "source": [
    "%matplotlib inline\n",
    "merge1.hist(figsize = (10,15), bins = 100)\n",
    "\n",
    "\n",
    "\n",
    "\n"
   ]
  },
  {
   "cell_type": "code",
   "execution_count": null,
   "metadata": {
    "collapsed": true
   },
   "outputs": [],
   "source": []
  },
  {
   "cell_type": "code",
   "execution_count": null,
   "metadata": {
    "collapsed": true
   },
   "outputs": [],
   "source": []
  }
 ],
 "metadata": {
  "kernelspec": {
   "display_name": "Python 2",
   "language": "python",
   "name": "python2"
  },
  "language_info": {
   "codemirror_mode": {
    "name": "ipython",
    "version": 2
   },
   "file_extension": ".py",
   "mimetype": "text/x-python",
   "name": "python",
   "nbconvert_exporter": "python",
   "pygments_lexer": "ipython2",
   "version": "2.7.13"
  }
 },
 "nbformat": 4,
 "nbformat_minor": 2
}
