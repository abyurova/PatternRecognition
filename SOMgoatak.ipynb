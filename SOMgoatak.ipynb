{
 "cells": [
  {
   "cell_type": "code",
   "execution_count": 1,
   "metadata": {
    "collapsed": true
   },
   "outputs": [],
   "source": [
    "import numpy as np\n",
    "from matplotlib import pyplot as plt\n",
    "from matplotlib import patches as patches\n",
    "\n",
    "%matplotlib inline\n",
    "raw_data= np.random.randint(0,255,(3,100))\n"
   ]
  },
  {
   "cell_type": "code",
   "execution_count": 2,
   "metadata": {},
   "outputs": [
    {
     "name": "stdout",
     "output_type": "stream",
     "text": [
      "[[[ 0.75200559  0.30157946  0.91307814]\n",
      "  [ 0.59511324  0.42381967  0.68031092]\n",
      "  [ 0.02111792  0.29073188  0.30250201]\n",
      "  [ 0.4930028   0.21312873  0.70388416]\n",
      "  [ 0.64062659  0.41067565  0.64815625]]\n",
      "\n",
      " [[ 0.31487154  0.46851803  0.12533878]\n",
      "  [ 0.8702072   0.73709881  0.44530173]\n",
      "  [ 0.86321127  0.21546822  0.30900592]\n",
      "  [ 0.6114278   0.43541064  0.36868657]\n",
      "  [ 0.28238396  0.41898035  0.07943218]]\n",
      "\n",
      " [[ 0.77940674  0.36851916  0.43744884]\n",
      "  [ 0.74129117  0.65178151  0.68852951]\n",
      "  [ 0.39966797  0.54987992  0.49703002]\n",
      "  [ 0.2776494   0.6026184   0.93290247]\n",
      "  [ 0.8392288   0.84383634  0.97332405]]\n",
      "\n",
      " [[ 0.61250057  0.77780938  0.29023574]\n",
      "  [ 0.02506352  0.22472344  0.20933129]\n",
      "  [ 0.63855904  0.79952173  0.61201159]\n",
      "  [ 0.14824854  0.53407583  0.59428059]\n",
      "  [ 0.2560809   0.04157178  0.52575573]]\n",
      "\n",
      " [[ 0.1409405   0.76117308  0.43620016]\n",
      "  [ 0.40632138  0.91183395  0.9063567 ]\n",
      "  [ 0.80873989  0.76632785  0.35772705]\n",
      "  [ 0.99405885  0.45662478  0.87078278]\n",
      "  [ 0.40743814  0.26265607  0.91705154]]]\n"
     ]
    },
    {
     "data": {
      "image/png": "[encoded data removed]",
      "text/plain": [
       "<matplotlib.figure.Figure at 0x1044123d0>"
      ]
     },
     "metadata": {},
     "output_type": "display_data"
    }
   ],
   "source": [
    "network_dimensions = np.array([5, 5])\n",
    "n_iterations = 2000\n",
    "init_learning_rate = 0.01\n",
    "  \n",
    "m = raw_data.shape[0]\n",
    "n = raw_data.shape[1]\n",
    "  \n",
    "net = np.random.random((network_dimensions[0], network_dimensions[1], m))\n",
    "print(net)  \n",
    "init_radius = max(network_dimensions[0], network_dimensions[1]) / 2\n",
    "  \n",
    "time_constant = n_iterations / np.log(init_radius)\n",
    "\n",
    "fig = plt.figure()\n",
    "\n",
    "ax = fig.add_subplot(111, aspect='equal')\n",
    "ax.set_xlim((0, net.shape[0]+1))\n",
    "ax.set_ylim((0, net.shape[1]+1))\n",
    "\n",
    "\n",
    "\n",
    "for x in range(1, net.shape[0] + 1):\n",
    "    for y in range(1, net.shape[1] + 1):\n",
    "        if (y%2 ==0):\n",
    "                ax.add_patch(patches.RegularPolygon((x+0.5, y), 6, 0.5,\n",
    "                     facecolor=net[x-1,y-1,:],\n",
    "                     edgecolor='none'))\n",
    "        else:        \n",
    "            ax.add_patch(patches.RegularPolygon((x, y), 6, 0.5,\n",
    "                     facecolor=net[x-1,y-1,:],\n",
    "                     edgecolor='none'))\n",
    "plt.show()"
   ]
  },
  {
   "cell_type": "code",
   "execution_count": 3,
   "metadata": {
    "collapsed": true,
    "scrolled": true
   },
   "outputs": [],
   "source": [
    "    \n",
    "    data = raw_data\n",
    "\n",
    "    \n",
    "    data = raw_data / data.max()\n",
    "    \n",
    "    \n",
    "t = data[:, np.random.randint(0, n)].reshape(np.array([m, 1]))\n"
   ]
  },
  {
   "cell_type": "code",
   "execution_count": 4,
   "metadata": {
    "collapsed": true
   },
   "outputs": [],
   "source": [
    "#     bmu_idx = np.array([0, 0])\n",
    "#     min_dist = np.iinfo(np.int).max\n",
    "\n",
    "    \n",
    "#     for x in range(net.shape[0]):\n",
    "#         for y in range(net.shape[1]):\n",
    "#             w = net[x, y, :].reshape(m, 1)\n",
    "#             print(\"weight:\")\n",
    "#             print(w)\n",
    "#             sq_dist = np.sum((w - t) ** 2)\n",
    "#             if sq_dist < min_dist:\n",
    "#                 min_dist = sq_dist\n",
    "#                 bmu_idx = np.array([x, y])\n",
    "#                 print(\"Min Dist\")\n",
    "#                 print(min_dist)\n",
    "#                 print(\"BMU_INDEX\")\n",
    "#                 print(bmu_idx)\n",
    "    \n",
    "    \n",
    "#     bmu = net[bmu_idx[0], bmu_idx[1], :].reshape(m, 1)\n",
    "#     print(bmu)\n",
    "#     print(bmu_idx)"
   ]
  },
  {
   "cell_type": "code",
   "execution_count": 5,
   "metadata": {
    "collapsed": true
   },
   "outputs": [],
   "source": [
    "def find_bmu(t, net, m):\n",
    "   \n",
    "    bmu_idx = np.array([0, 0])\n",
    "    \n",
    "    min_dist = np.iinfo(np.int).max\n",
    "    \n",
    "    for x in range(net.shape[0]):\n",
    "        for y in range(net.shape[1]):\n",
    "            w = net[x, y, :].reshape(m, 1)\n",
    "            \n",
    "            sq_dist = np.sum((w - t) ** 2)\n",
    "            if sq_dist < min_dist:\n",
    "                min_dist = sq_dist\n",
    "                bmu_idx = np.array([x, y])\n",
    "    \n",
    "    bmu = net[bmu_idx[0], bmu_idx[1], :].reshape(m, 1)\n",
    "    \n",
    "    return (bmu, bmu_idx)"
   ]
  },
  {
   "cell_type": "code",
   "execution_count": 6,
   "metadata": {
    "collapsed": true
   },
   "outputs": [],
   "source": [
    "def decay_radius(initial_radius, i, time_constant):\n",
    "    return initial_radius * np.exp(-i / time_constant)\n",
    "\n",
    "def decay_learning_rate(initial_learning_rate, i, n_iterations):\n",
    "    return initial_learning_rate * np.exp(-i / n_iterations)\n",
    "def calculate_influence(distance, radius):\n",
    "    return np.exp(-distance / (2* (radius**2)))\n"
   ]
  },
  {
   "cell_type": "code",
   "execution_count": 7,
   "metadata": {
    "collapsed": true
   },
   "outputs": [],
   "source": [
    "for i in range(n_iterations):\n",
    "    t = data[:, np.random.randint(0, n)].reshape(np.array([m, 1]))\n",
    "    \n",
    "    bmu, bmu_idx = find_bmu(t, net, m)\n",
    "    \n",
    "    r = decay_radius(init_radius, i, time_constant)\n",
    "    l = decay_learning_rate(init_learning_rate, i, n_iterations)\n",
    "    \n",
    "    for x in range(net.shape[0]):\n",
    "        for y in range(net.shape[1]):\n",
    "            w = net[x, y, :].reshape(m, 1)\n",
    "            w_dist = np.sum((np.array([x, y]) - bmu_idx) ** 2)\n",
    "            if w_dist <= r**2:\n",
    "                influence = calculate_influence(w_dist, r)\n",
    "                new_w = w + (l * influence * (t - w))\n",
    "                net[x, y, :] = new_w.reshape(1, 3)"
   ]
  },
  {
   "cell_type": "code",
   "execution_count": 8,
   "metadata": {},
   "outputs": [
    {
     "data": {
      "image/png": "[encoded data removed]",
      "text/plain": [
       "<matplotlib.figure.Figure at 0x16c58a07400>"
      ]
     },
     "metadata": {},
     "output_type": "display_data"
    }
   ],
   "source": [
    "fig = plt.figure()\n",
    "\n",
    "ax = fig.add_subplot(111, aspect='equal')\n",
    "ax.set_xlim((0, net.shape[0]+1))\n",
    "ax.set_ylim((0, net.shape[1]+1))\n",
    "ax.set_title('Self-Organising Map after %d iterations' % n_iterations)\n",
    "\n",
    "\n",
    "for x in range(1, net.shape[0] + 1):\n",
    "    for y in range(1, net.shape[1] + 1):\n",
    "        if (y%2 ==0):\n",
    "                ax.add_patch(patches.RegularPolygon((x+0.5, y), 6, 0.5,\n",
    "                     facecolor=net[x-1,y-1,:],\n",
    "                     edgecolor='none'))\n",
    "        else:        \n",
    "            ax.add_patch(patches.RegularPolygon((x, y), 6, 0.5,\n",
    "                     facecolor=net[x-1,y-1,:],\n",
    "                     edgecolor='none'))\n",
    "plt.show()"
   ]
  },
  {
   "cell_type": "code",
   "execution_count": null,
   "metadata": {
    "collapsed": true
   },
   "outputs": [],
   "source": []
  }
 ],
 "metadata": {
  "kernelspec": {
   "display_name": "Python 2",
   "language": "python",
   "name": "python2"
  },
  "language_info": {
   "codemirror_mode": {
    "name": "ipython",
    "version": 2
   },
   "file_extension": ".py",
   "mimetype": "text/x-python",
   "name": "python",
   "nbconvert_exporter": "python",
   "pygments_lexer": "ipython2",
   "version": "2.7.13"
  }
 },
 "nbformat": 4,
 "nbformat_minor": 2
}
