{
 "cells": [
  {
   "cell_type": "markdown",
   "metadata": {},
   "source": [
    "# Intro to Mathematical logic, Jupyter Notebook\n",
    "\n",
    "## Installation\n",
    "* pip install pyDatalog\n",
    "\n",
    "## Tasks\n",
    "* Extend rules for the salary at your own company. Namely add progressive tax rate depending on salary tax_rate=f(salary)\n",
    "* Add working time and calculate the total salary for every employee\n",
    "* Make filter form for employees"
   ]
  },
  {
   "cell_type": "code",
   "execution_count": 3,
   "metadata": {},
   "outputs": [
    {
     "name": "stdout",
     "output_type": "stream",
     "text": [
      "Set the X var to 1\n",
      "X\n",
      "-\n",
      "1\n",
      "()\n",
      "Assignment of 2 Vars\n",
      "X    | Y    \n",
      "-----|------\n",
      "True | False\n",
      "()\n",
      "Assignment n times, to n values\n",
      "Arr\n",
      "---\n",
      "3  \n",
      "4  \n",
      "1  \n",
      "2  \n",
      "0  \n",
      "()\n",
      "Just another case N assignment\n",
      "[(4,), (3,), (0,), (2,), (1,)]\n",
      "()\n",
      "Filtering\n",
      "X\n",
      "-\n",
      "1\n",
      "0\n",
      "()\n",
      "Term of function\n",
      "X | Y\n",
      "--|--\n",
      "2 | 4\n",
      "()\n",
      "Combination Assignment and Filtering\n",
      "X | Y | Z\n",
      "--|---|--\n",
      "2 | 0 | 0\n",
      "1 | 1 | 1\n",
      "0 | 0 | 0\n",
      "0 | 1 | 0\n",
      "1 | 0 | 0\n",
      "0 | 2 | 0\n",
      "0 | 3 | 0\n",
      "0 | 4 | 0\n",
      "1 | 2 | 2\n",
      "2 | 1 | 2\n",
      "4 | 0 | 0\n",
      "3 | 0 | 0\n",
      "12\n"
     ]
    }
   ],
   "source": [
    "from pyDatalog import pyDatalog\n",
    "def twice(a):\n",
    "    return a+a\n",
    "pyDatalog.create_terms('X,Y,Z,Arr')\n",
    "\n",
    "print('Set the X var to 1')\n",
    "print(X==1)\n",
    "print()\n",
    "print('Assignment of 2 Vars')\n",
    "print((X==True) & (Y==False))\n",
    "print()\n",
    "\n",
    "print('Assignment n times, to n values')\n",
    "print(Arr.in_((0,1,2,3,4)))\n",
    "print()\n",
    "\n",
    "print('Just another case N assignment')\n",
    "print(Arr.in_(range(5)).data)\n",
    "print()\n",
    "\n",
    "print('Filtering')\n",
    "print(X.in_(range(5)) & (X<2))\n",
    "print()\n",
    "\n",
    "print('Term of function')\n",
    "pyDatalog.create_terms('twice')\n",
    "print((X==2) & (Y==twice(X)))\n",
    "print()\n",
    "print('Combination Assignment and Filtering')\n",
    "print(X.in_(range(5)) & \n",
    "     Y.in_(range(5)) & \n",
    "     (Z==X*Y) & (Z<3))\n",
    "print(len(Z))"
   ]
  },
  {
   "cell_type": "code",
   "execution_count": 12,
   "metadata": {},
   "outputs": [
    {
     "data": {
      "application/vnd.jupyter.widget-view+json": {
       "model_id": "22b02db3f3d44b4ebf2e3f954cff5705"
      }
     },
     "metadata": {},
     "output_type": "display_data"
    }
   ],
   "source": [
    "from ipywidgets import interact_manual\n",
    "from pyDatalog import pyDatalog\n",
    "pyDatalog.create_terms('employee, net_salary, tax_rate, month, total_salary, min_salary')\n",
    "@interact_manual\n",
    "def get_input(name='User', salary=50000, month = 12):\n",
    "    min_salary = 24459\n",
    "    employee[name]=salary\n",
    "    tax_rate =  employee[X] * 0.1 + min_salary *0.1\n",
    "    net_salary[X] =  employee[X] -tax_rate \n",
    "    total_salary[X] = (employee[X] - tax_rate) * month\n",
    "    print((net_salary[X]==Y) & (total_salary[X]==Z) & (Y > 20000) & (Z > 240000))"
   ]
  },
  {
   "cell_type": "code",
   "execution_count": null,
   "metadata": {
    "collapsed": true
   },
   "outputs": [],
   "source": []
  }
 ],
 "metadata": {
  "anaconda-cloud": {},
  "kernelspec": {
   "display_name": "Python 2",
   "language": "python",
   "name": "python2"
  },
  "language_info": {
   "codemirror_mode": {
    "name": "ipython",
    "version": 2
   },
   "file_extension": ".py",
   "mimetype": "text/x-python",
   "name": "python",
   "nbconvert_exporter": "python",
   "pygments_lexer": "ipython2",
   "version": "2.7.13"
  },
  "widgets": {
   "state": {
    "32a51d31218d46a6a37fa1973993894e": {
     "views": [
      {
       "cell_index": 2
      }
     ]
    },
    "c32fd48b5e8d49a3b80c484b560621a3": {
     "views": [
      {
       "cell_index": 2
      }
     ]
    },
    "c456a5202f744432af99a1d49460735b": {
     "views": [
      {
       "cell_index": 2
      }
     ]
    }
   },
   "version": "1.2.0"
  }
 },
 "nbformat": 4,
 "nbformat_minor": 2
}
